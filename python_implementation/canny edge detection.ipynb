{
 "cells": [
  {
   "cell_type": "code",
   "execution_count": 329,
   "metadata": {},
   "outputs": [],
   "source": [
    "import numpy as np \n",
    "import os \n",
    "import cv2 \n",
    "import matplotlib.pyplot as plt \n",
    "import time\n",
    "from scipy import ndimage\n",
    "from time import time\n",
    "\n",
    "profile = {\n",
    "    'gray': 0,\n",
    "    'guas': 0,\n",
    "    'sobel': 0,\n",
    "    'suppress': 0,\n",
    "    'thres':0,\n",
    "    'hyst':0,\n",
    "}"
   ]
  },
  {
   "cell_type": "code",
   "execution_count": 330,
   "metadata": {},
   "outputs": [],
   "source": [
    "# Replica of the functions used in hardware \n",
    "\n",
    "def gausian_filters(img):\n",
    "    kernel = np.array([[1,4,7,4,1],[4,16,26,16,4],[7,26,41,26,7],[4,16,26,16,4],[1,4,7,4,1]], np.float64)\n",
    "    kernel = kernel / 273;\n",
    "    blur = ndimage.filters.convolve(img[:,:,0], kernel)\n",
    "    blur = blur[:,:,np.newaxis]\n",
    "    blur = np.concatenate([blur,blur,blur], -1)\n",
    "    return blur\n",
    "\n",
    "def sobel_filters(img):\n",
    "    Kx = np.array([[-1, 0, 1], [-2, 0, 2], [-1, 0, 1]], np.float64)\n",
    "    Ky = np.array([[1, 2, 1], [0, 0, 0], [-1, -2, -1]], np.float64)\n",
    "    Ix = ndimage.filters.convolve(np.float32(img[:,:,0]), Kx)\n",
    "    Iy = ndimage.filters.convolve(np.float32(img[:,:,0]), Ky)\n",
    "    \n",
    "    G = np.sqrt( (Ix * Ix) + (Iy * Iy))\n",
    "    G = G / G.max() * 255  \n",
    "    G = G.astype(int)\n",
    "    G = G[:,:,np.newaxis]\n",
    "    G = np.concatenate([G,G,G], -1)\n",
    "    theta = np.arctan2(Iy, Ix)\n",
    "    return (G, theta)\n",
    "\n",
    "def non_max_suppression(img, D):\n",
    "    img = img[:,:,0]\n",
    "    M, N = img.shape\n",
    "    Z = np.zeros((M,N), dtype=np.int32)\n",
    "    angle = D * 180. / np.pi\n",
    "    angle[angle < 0] += 180\n",
    "\n",
    "    \n",
    "    for i in range(1,M-1):\n",
    "        for j in range(1,N-1):\n",
    "            try:\n",
    "                q = 255\n",
    "                r = 255\n",
    "                \n",
    "               #angle 0\n",
    "                if (0 <= angle[i,j] < 22.5) or (157.5 <= angle[i,j] <= 180):\n",
    "                    q = img[i, j+1]\n",
    "                    r = img[i, j-1]\n",
    "                #angle 45\n",
    "                elif (22.5 <= angle[i,j] < 67.5):\n",
    "                    q = img[i+1, j-1]\n",
    "                    r = img[i-1, j+1]\n",
    "                #angle 90\n",
    "                elif (67.5 <= angle[i,j] < 112.5):\n",
    "                    q = img[i+1, j]\n",
    "                    r = img[i-1, j]\n",
    "                #angle 135\n",
    "                elif (112.5 <= angle[i,j] < 157.5):\n",
    "                    q = img[i-1, j-1]\n",
    "                    r = img[i+1, j+1]\n",
    "\n",
    "                if (img[i,j] >= q) and (img[i,j] >= r):\n",
    "                    Z[i,j] = img[i,j]\n",
    "                else:\n",
    "                    Z[i,j] = 0\n",
    "\n",
    "            except IndexError as e:\n",
    "                pass\n",
    "\n",
    "    Z = Z[:,:,np.newaxis]\n",
    "    Z = np.concatenate([Z,Z,Z], -1)\n",
    "    return Z\n",
    "\n",
    "\n",
    "\n",
    "def threshold(img, lowThresholdRatio=0.05, highThresholdRatio=0.09):\n",
    "    img = img[:,:,0]\n",
    "    highThreshold = 255 * highThresholdRatio;\n",
    "    lowThreshold = highThreshold * lowThresholdRatio;\n",
    "    \n",
    "    M, N = img.shape\n",
    "    res = np.zeros((M,N), dtype=np.int32)\n",
    "    \n",
    "    weak = np.int32(25)\n",
    "    strong = np.int32(255)\n",
    "    \n",
    "    strong_i, strong_j = np.where(img >= highThreshold)\n",
    "    zeros_i, zeros_j = np.where(img < lowThreshold)\n",
    "    \n",
    "    weak_i, weak_j = np.where((img <= highThreshold) & (img >= lowThreshold))\n",
    "    \n",
    "    res[strong_i, strong_j] = strong\n",
    "    res[weak_i, weak_j] = weak\n",
    "\n",
    "    res = res[:,:,np.newaxis]\n",
    "    res = np.concatenate([res,res,res], -1)\n",
    "    \n",
    "    return (res, weak, strong)\n",
    "\n",
    "\n",
    "def hysteresis(img, weak, strong=255):\n",
    "    img = img[:,:,0]\n",
    "    M, N = img.shape  \n",
    "    for i in range(1, M-1):\n",
    "        for j in range(1, N-1):\n",
    "            if (img[i,j] == weak):\n",
    "                try:\n",
    "                    if ((img[i+1, j-1] == strong) or (img[i+1, j] == strong) or (img[i+1, j+1] == strong)\n",
    "                        or (img[i, j-1] == strong) or (img[i, j+1] == strong)\n",
    "                        or (img[i-1, j-1] == strong) or (img[i-1, j] == strong) or (img[i-1, j+1] == strong)):\n",
    "                        img[i, j] = strong\n",
    "                    else:\n",
    "                        img[i, j] = 0\n",
    "                except IndexError as e:\n",
    "                    pass\n",
    "    img = img[:,:,np.newaxis]\n",
    "    img = np.concatenate([img,img,img], -1)\n",
    "    return img"
   ]
  },
  {
   "cell_type": "code",
   "execution_count": 331,
   "metadata": {},
   "outputs": [],
   "source": [
    "# conversion ofimage to grayscale \n",
    "img = cv2.imread('parrot.jpg')\n",
    "img = cv2.cvtColor(img, cv2.COLOR_BGR2RGB)\n",
    "\n",
    "\n",
    "# plotting the RGB image\n",
    "\n",
    "# plt.imshow(img)\n",
    "# plt.show()"
   ]
  },
  {
   "cell_type": "code",
   "execution_count": 332,
   "metadata": {},
   "outputs": [],
   "source": [
    "start = time()\n",
    "gray = cv2.cvtColor(img, cv2.COLOR_RGB2GRAY)\n",
    "gray = gray[:,:,np.newaxis]\n",
    "gray = np.concatenate([gray,gray,gray], -1)\n",
    "end = time()\n",
    "profile['gray']= (end - start) * 1000\n",
    "\n",
    "\n",
    "# plotting the GRAYscale image\n",
    "\n",
    "# plt.figure(figsize = (100,100))\n",
    "# plt.imshow(gray)\n",
    "# plt.show()"
   ]
  },
  {
   "cell_type": "code",
   "execution_count": 333,
   "metadata": {},
   "outputs": [],
   "source": [
    "start = time()\n",
    "guas = gausian_filters(img)\n",
    "end = time()\n",
    "profile['guas']= (end - start) * 1000\n",
    "\n",
    "\n",
    "# plotting guassian \n",
    "\n",
    "# plt.figure(figsize = (100,100))\n",
    "# plt.imshow(guas)\n",
    "# plt.show()\n",
    "\n",
    "# testing with CV2 guassian\n",
    "\n",
    "# guas = cv2.GaussianBlur(gray, (5, 5), 1) \n",
    "# plt.figure(figsize = (100,100))\n",
    "# plt.imshow(guas)\n",
    "# plt.show()"
   ]
  },
  {
   "cell_type": "code",
   "execution_count": 334,
   "metadata": {},
   "outputs": [],
   "source": [
    "start = time()\n",
    "sobel, theta = sobel_filters(guas)\n",
    "end = time()\n",
    "profile['sobel']= (end - start) * 1000\n",
    "\n",
    "# plotting \n",
    "\n",
    "# plt.figure(figsize = (100,100))\n",
    "# plt.imshow(sobel)\n",
    "# plt.show()\n",
    "\n",
    "# testing with CV2 Sobel\n",
    "\n",
    "# gx = cv2.Sobel(np.float32(guas), cv2.CV_64F, 1, 0, 3) \n",
    "# gy = cv2.Sobel(np.float32(guas), cv2.CV_64F, 0, 1, 3) \n",
    "      \n",
    "# # Conversion of Cartesian coordinates to polar  \n",
    "# mag, ang = cv2.cartToPolar(gx, gy, angleInDegrees = True) \n",
    "\n",
    "# sobel = mag/mag.max() * 255\n",
    "# sobel = sobel.astype(int)\n",
    "# plt.imshow(sobel)\n",
    "# plt.show()"
   ]
  },
  {
   "cell_type": "code",
   "execution_count": 335,
   "metadata": {},
   "outputs": [],
   "source": [
    "start = time()\n",
    "suppress = non_max_suppression(sobel, theta)\n",
    "end = time()\n",
    "profile['suppress']= (end - start) * 1000\n",
    "\n",
    "\n",
    "# plotting the image after suppression\n",
    "\n",
    "# plt.figure(figsize = (100,100))\n",
    "# plt.imshow(suppress)\n",
    "# plt.show()"
   ]
  },
  {
   "cell_type": "code",
   "execution_count": 336,
   "metadata": {},
   "outputs": [],
   "source": [
    "start = time()\n",
    "thres, weak, strong = threshold(suppress)\n",
    "end = time()\n",
    "profile['thres']= (end - start) * 1000\n",
    "\n",
    "# plotting the image after dual thresholding \n",
    "\n",
    "# plt.figure(figsize = (100,100))\n",
    "# plt.imshow(thres)\n",
    "# plt.show()"
   ]
  },
  {
   "cell_type": "code",
   "execution_count": 337,
   "metadata": {},
   "outputs": [],
   "source": [
    "start = time()\n",
    "hyst = hysteresis(thres,  weak, strong)\n",
    "end = time()\n",
    "profile['hyst']= (end - start) * 1000\n",
    "\n",
    "# plotting the image after hystersis\n",
    "\n",
    "# plt.figure(figsize = (100,100))\n",
    "# plt.imshow(hyst)\n",
    "# plt.show()"
   ]
  },
  {
   "cell_type": "code",
   "execution_count": 338,
   "metadata": {},
   "outputs": [
    {
     "name": "stdout",
     "output_type": "stream",
     "text": [
      "dict_values([6.381988525390625, 52.964210510253906, 64.88442420959473, 7415.509223937988, 22.92466163635254, 645.2717781066895])\n"
     ]
    }
   ],
   "source": [
    "print(profile.values())"
   ]
  },
  {
   "cell_type": "code",
   "execution_count": 339,
   "metadata": {},
   "outputs": [
    {
     "data": {
      "text/plain": [
       "<BarContainer object of 6 artists>"
      ]
     },
     "execution_count": 339,
     "metadata": {},
     "output_type": "execute_result"
    },
    {
     "data": {
      "image/png": "[encoded data removed]",
      "text/plain": [
       "<Figure size 432x288 with 1 Axes>"
      ]
     },
     "metadata": {
      "needs_background": "light"
     },
     "output_type": "display_data"
    }
   ],
   "source": [
    "plt.bar(profile.keys(),profile.values())"
   ]
  },
  {
   "cell_type": "code",
   "execution_count": null,
   "metadata": {},
   "outputs": [],
   "source": []
  },
  {
   "cell_type": "code",
   "execution_count": null,
   "metadata": {},
   "outputs": [],
   "source": []
  }
 ],
 "metadata": {
  "kernelspec": {
   "display_name": "Python 3",
   "language": "python",
   "name": "python3"
  },
  "language_info": {
   "codemirror_mode": {
    "name": "ipython",
    "version": 3
   },
   "file_extension": ".py",
   "mimetype": "text/x-python",
   "name": "python",
   "nbconvert_exporter": "python",
   "pygments_lexer": "ipython3",
   "version": "3.7.8"
  }
 },
 "nbformat": 4,
 "nbformat_minor": 4
}
